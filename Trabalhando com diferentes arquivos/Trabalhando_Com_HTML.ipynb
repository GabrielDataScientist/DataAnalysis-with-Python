{
 "cells": [
  {
   "cell_type": "code",
   "execution_count": null,
   "id": "4a91d790",
   "metadata": {},
   "outputs": [],
   "source": [
    "import html5lib\n",
    "import lxml\n",
    "import pandas as pd"
   ]
  },
  {
   "cell_type": "markdown",
   "id": "673728ff",
   "metadata": {},
   "source": [
    "## Lendo o url"
   ]
  },
  {
   "cell_type": "code",
   "execution_count": null,
   "id": "eeb8ca71",
   "metadata": {},
   "outputs": [],
   "source": [
    "url = 'http://tabela-cursos.herokuapp.com/index.html'\n",
    "tabela_cursos = pd.read_html(url)\n",
    "tabela_cursos"
   ]
  },
  {
   "cell_type": "code",
   "execution_count": null,
   "id": "4a5529d8",
   "metadata": {},
   "outputs": [],
   "source": [
    "type(tabela_cursos)"
   ]
  },
  {
   "cell_type": "markdown",
   "id": "0105deb8",
   "metadata": {},
   "source": [
    "## Convertendo para dataframe"
   ]
  },
  {
   "cell_type": "code",
   "execution_count": null,
   "id": "c9cb29e9",
   "metadata": {},
   "outputs": [],
   "source": [
    "tabela_cursos = tabela_cursos[0]"
   ]
  },
  {
   "cell_type": "code",
   "execution_count": null,
   "id": "9a9b0ec5",
   "metadata": {},
   "outputs": [],
   "source": [
    "type(tabela_cursos)"
   ]
  },
  {
   "cell_type": "code",
   "execution_count": null,
   "id": "cc23797f",
   "metadata": {},
   "outputs": [],
   "source": [
    "tabela_cursos.head()"
   ]
  },
  {
   "cell_type": "markdown",
   "id": "f89279eb",
   "metadata": {},
   "source": [
    "## Renomeando a coluna para melhor manipulação"
   ]
  },
  {
   "cell_type": "code",
   "execution_count": null,
   "id": "3f58a4ff",
   "metadata": {},
   "outputs": [],
   "source": [
    "tabela_cursos.rename(columns={\"Nome do curso\":\"Nome_curso\"}, inplace = True)\n",
    "tabela_cursos"
   ]
  },
  {
   "cell_type": "markdown",
   "id": "613763fb",
   "metadata": {},
   "source": [
    "## Criando um ID para os cursos"
   ]
  },
  {
   "cell_type": "code",
   "execution_count": null,
   "id": "36080710",
   "metadata": {},
   "outputs": [],
   "source": [
    "tabela_cursos['ID'] = tabela_cursos.index + 1\n",
    "tabela_cursos"
   ]
  },
  {
   "cell_type": "markdown",
   "id": "7ef29c01",
   "metadata": {},
   "source": [
    "## Usando o ID como index"
   ]
  },
  {
   "cell_type": "code",
   "execution_count": null,
   "id": "e6abca68",
   "metadata": {},
   "outputs": [],
   "source": [
    "tabela_cursos.set_index('ID', inplace = True)"
   ]
  },
  {
   "cell_type": "code",
   "execution_count": 33,
   "id": "5449006a",
   "metadata": {},
   "outputs": [
    {
     "data": {
      "text/html": [
       "<div>\n",
       "<style scoped>\n",
       "    .dataframe tbody tr th:only-of-type {\n",
       "        vertical-align: middle;\n",
       "    }\n",
       "\n",
       "    .dataframe tbody tr th {\n",
       "        vertical-align: top;\n",
       "    }\n",
       "\n",
       "    .dataframe thead th {\n",
       "        text-align: right;\n",
       "    }\n",
       "</style>\n",
       "<table border=\"1\" class=\"dataframe\">\n",
       "  <thead>\n",
       "    <tr style=\"text-align: right;\">\n",
       "      <th></th>\n",
       "      <th>Nome_curso</th>\n",
       "    </tr>\n",
       "    <tr>\n",
       "      <th>ID</th>\n",
       "      <th></th>\n",
       "    </tr>\n",
       "  </thead>\n",
       "  <tbody>\n",
       "    <tr>\n",
       "      <th>1</th>\n",
       "      <td>Lógica de programação</td>\n",
       "    </tr>\n",
       "    <tr>\n",
       "      <th>2</th>\n",
       "      <td>Java para Web</td>\n",
       "    </tr>\n",
       "    <tr>\n",
       "      <th>3</th>\n",
       "      <td>C# para Web</td>\n",
       "    </tr>\n",
       "    <tr>\n",
       "      <th>4</th>\n",
       "      <td>Ruby on Rails</td>\n",
       "    </tr>\n",
       "    <tr>\n",
       "      <th>5</th>\n",
       "      <td>Cursos de Python</td>\n",
       "    </tr>\n",
       "    <tr>\n",
       "      <th>6</th>\n",
       "      <td>PHP com MySql</td>\n",
       "    </tr>\n",
       "    <tr>\n",
       "      <th>7</th>\n",
       "      <td>.NET para web</td>\n",
       "    </tr>\n",
       "    <tr>\n",
       "      <th>8</th>\n",
       "      <td>Novas integrações com Java</td>\n",
       "    </tr>\n",
       "    <tr>\n",
       "      <th>9</th>\n",
       "      <td>TDD com Java</td>\n",
       "    </tr>\n",
       "    <tr>\n",
       "      <th>10</th>\n",
       "      <td>Código limpo com C#</td>\n",
       "    </tr>\n",
       "    <tr>\n",
       "      <th>11</th>\n",
       "      <td>Preparatório para certificação Java</td>\n",
       "    </tr>\n",
       "    <tr>\n",
       "      <th>12</th>\n",
       "      <td>Hardware básico</td>\n",
       "    </tr>\n",
       "    <tr>\n",
       "      <th>13</th>\n",
       "      <td>Persistência com .NET</td>\n",
       "    </tr>\n",
       "    <tr>\n",
       "      <th>14</th>\n",
       "      <td>Desenvolvendo jogos</td>\n",
       "    </tr>\n",
       "    <tr>\n",
       "      <th>15</th>\n",
       "      <td>Análise de dados</td>\n",
       "    </tr>\n",
       "    <tr>\n",
       "      <th>16</th>\n",
       "      <td>Estatística básica</td>\n",
       "    </tr>\n",
       "    <tr>\n",
       "      <th>17</th>\n",
       "      <td>Internet das coisas</td>\n",
       "    </tr>\n",
       "    <tr>\n",
       "      <th>18</th>\n",
       "      <td>Programação funcional</td>\n",
       "    </tr>\n",
       "    <tr>\n",
       "      <th>19</th>\n",
       "      <td>Boas práticas em Java</td>\n",
       "    </tr>\n",
       "    <tr>\n",
       "      <th>20</th>\n",
       "      <td>Orientação objetos com Java</td>\n",
       "    </tr>\n",
       "  </tbody>\n",
       "</table>\n",
       "</div>"
      ],
      "text/plain": [
       "                             Nome_curso\n",
       "ID                                     \n",
       "1                 Lógica de programação\n",
       "2                         Java para Web\n",
       "3                           C# para Web\n",
       "4                         Ruby on Rails\n",
       "5                      Cursos de Python\n",
       "6                         PHP com MySql\n",
       "7                         .NET para web\n",
       "8            Novas integrações com Java\n",
       "9                          TDD com Java\n",
       "10                  Código limpo com C#\n",
       "11  Preparatório para certificação Java\n",
       "12                      Hardware básico\n",
       "13                Persistência com .NET\n",
       "14                  Desenvolvendo jogos\n",
       "15                     Análise de dados\n",
       "16                   Estatística básica\n",
       "17                  Internet das coisas\n",
       "18                Programação funcional\n",
       "19                Boas práticas em Java\n",
       "20          Orientação objetos com Java"
      ]
     },
     "execution_count": 33,
     "metadata": {},
     "output_type": "execute_result"
    }
   ],
   "source": [
    "tabela_cursos"
   ]
  },
  {
   "cell_type": "markdown",
   "id": "a4c7b255",
   "metadata": {},
   "source": [
    "## Salvando o dataframe"
   ]
  },
  {
   "cell_type": "code",
   "execution_count": 35,
   "id": "04b8ea08",
   "metadata": {},
   "outputs": [],
   "source": [
    "tabela_cursos.to_csv(\"cursos.csv\", sep = \";\")"
   ]
  },
  {
   "cell_type": "code",
   "execution_count": null,
   "id": "c71dcc9f",
   "metadata": {},
   "outputs": [],
   "source": []
  }
 ],
 "metadata": {
  "kernelspec": {
   "display_name": "Python 3 (ipykernel)",
   "language": "python",
   "name": "python3"
  },
  "language_info": {
   "codemirror_mode": {
    "name": "ipython",
    "version": 3
   },
   "file_extension": ".py",
   "mimetype": "text/x-python",
   "name": "python",
   "nbconvert_exporter": "python",
   "pygments_lexer": "ipython3",
   "version": "3.9.12"
  }
 },
 "nbformat": 4,
 "nbformat_minor": 5
}
