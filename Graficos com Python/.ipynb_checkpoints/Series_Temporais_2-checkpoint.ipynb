{
 "cells": [
  {
   "cell_type": "markdown",
   "id": "39de30d0",
   "metadata": {},
   "source": [
    "# Analisando os assinantes de um jornal"
   ]
  },
  {
   "cell_type": "code",
   "execution_count": 1,
   "id": "6dfff7f9",
   "metadata": {},
   "outputs": [],
   "source": [
    "%matplotlib inline\n",
    "import pandas as pd\n",
    "import seaborn as sns\n",
    "import matplotlib.pyplot as plt"
   ]
  },
  {
   "cell_type": "code",
   "execution_count": 7,
   "id": "24f21a48",
   "metadata": {},
   "outputs": [
    {
     "data": {
      "text/html": [
       "<div>\n",
       "<style scoped>\n",
       "    .dataframe tbody tr th:only-of-type {\n",
       "        vertical-align: middle;\n",
       "    }\n",
       "\n",
       "    .dataframe tbody tr th {\n",
       "        vertical-align: top;\n",
       "    }\n",
       "\n",
       "    .dataframe thead th {\n",
       "        text-align: right;\n",
       "    }\n",
       "</style>\n",
       "<table border=\"1\" class=\"dataframe\">\n",
       "  <thead>\n",
       "    <tr style=\"text-align: right;\">\n",
       "      <th></th>\n",
       "      <th>mes</th>\n",
       "      <th>assinantes</th>\n",
       "    </tr>\n",
       "  </thead>\n",
       "  <tbody>\n",
       "    <tr>\n",
       "      <th>0</th>\n",
       "      <td>2017-01-31</td>\n",
       "      <td>0</td>\n",
       "    </tr>\n",
       "    <tr>\n",
       "      <th>1</th>\n",
       "      <td>2017-02-28</td>\n",
       "      <td>10</td>\n",
       "    </tr>\n",
       "  </tbody>\n",
       "</table>\n",
       "</div>"
      ],
      "text/plain": [
       "          mes  assinantes\n",
       "0  2017-01-31           0\n",
       "1  2017-02-28          10"
      ]
     },
     "execution_count": 7,
     "metadata": {},
     "output_type": "execute_result"
    }
   ],
   "source": [
    "df_jornal = pd.read_csv(\"base_dados_time_series/newsletter_alucar.csv\", sep=\",\")\n",
    "df_jornal.head(2)"
   ]
  },
  {
   "cell_type": "markdown",
   "id": "82d88673",
   "metadata": {},
   "source": [
    "### Convertendo a coluna data de object para datatime"
   ]
  },
  {
   "cell_type": "code",
   "execution_count": 10,
   "id": "294b2925",
   "metadata": {},
   "outputs": [
    {
     "data": {
      "text/plain": [
       "mes           datetime64[ns]\n",
       "assinantes             int64\n",
       "dtype: object"
      ]
     },
     "execution_count": 10,
     "metadata": {},
     "output_type": "execute_result"
    }
   ],
   "source": [
    "df_jornal['mes'] = pd.to_datetime(df_jornal['mes'])\n",
    "df_jornal.dtypes"
   ]
  },
  {
   "cell_type": "code",
   "execution_count": 14,
   "id": "061a1e8c",
   "metadata": {},
   "outputs": [
    {
     "data": {
      "text/html": [
       "<div>\n",
       "<style scoped>\n",
       "    .dataframe tbody tr th:only-of-type {\n",
       "        vertical-align: middle;\n",
       "    }\n",
       "\n",
       "    .dataframe tbody tr th {\n",
       "        vertical-align: top;\n",
       "    }\n",
       "\n",
       "    .dataframe thead th {\n",
       "        text-align: right;\n",
       "    }\n",
       "</style>\n",
       "<table border=\"1\" class=\"dataframe\">\n",
       "  <thead>\n",
       "    <tr style=\"text-align: right;\">\n",
       "      <th></th>\n",
       "      <th>mes</th>\n",
       "      <th>assinantes</th>\n",
       "      <th>diferenca</th>\n",
       "    </tr>\n",
       "  </thead>\n",
       "  <tbody>\n",
       "    <tr>\n",
       "      <th>0</th>\n",
       "      <td>2017-01-31</td>\n",
       "      <td>0</td>\n",
       "      <td>NaN</td>\n",
       "    </tr>\n",
       "    <tr>\n",
       "      <th>1</th>\n",
       "      <td>2017-02-28</td>\n",
       "      <td>10</td>\n",
       "      <td>10.0</td>\n",
       "    </tr>\n",
       "    <tr>\n",
       "      <th>2</th>\n",
       "      <td>2017-03-31</td>\n",
       "      <td>21</td>\n",
       "      <td>11.0</td>\n",
       "    </tr>\n",
       "    <tr>\n",
       "      <th>3</th>\n",
       "      <td>2017-04-30</td>\n",
       "      <td>34</td>\n",
       "      <td>13.0</td>\n",
       "    </tr>\n",
       "    <tr>\n",
       "      <th>4</th>\n",
       "      <td>2017-05-31</td>\n",
       "      <td>49</td>\n",
       "      <td>15.0</td>\n",
       "    </tr>\n",
       "  </tbody>\n",
       "</table>\n",
       "</div>"
      ],
      "text/plain": [
       "         mes  assinantes  diferenca\n",
       "0 2017-01-31           0        NaN\n",
       "1 2017-02-28          10       10.0\n",
       "2 2017-03-31          21       11.0\n",
       "3 2017-04-30          34       13.0\n",
       "4 2017-05-31          49       15.0"
      ]
     },
     "execution_count": 14,
     "metadata": {},
     "output_type": "execute_result"
    }
   ],
   "source": [
    "#Comparação do número de assinantes entre os meses\n",
    "df_jornal['diferenca'] = df_jornal['assinantes'].diff()\n",
    "df_jornal.head()"
   ]
  },
  {
   "cell_type": "code",
   "execution_count": 15,
   "id": "a94f977e",
   "metadata": {},
   "outputs": [
    {
     "data": {
      "text/html": [
       "<div>\n",
       "<style scoped>\n",
       "    .dataframe tbody tr th:only-of-type {\n",
       "        vertical-align: middle;\n",
       "    }\n",
       "\n",
       "    .dataframe tbody tr th {\n",
       "        vertical-align: top;\n",
       "    }\n",
       "\n",
       "    .dataframe thead th {\n",
       "        text-align: right;\n",
       "    }\n",
       "</style>\n",
       "<table border=\"1\" class=\"dataframe\">\n",
       "  <thead>\n",
       "    <tr style=\"text-align: right;\">\n",
       "      <th></th>\n",
       "      <th>mes</th>\n",
       "      <th>assinantes</th>\n",
       "      <th>diferenca</th>\n",
       "      <th>oscilacao</th>\n",
       "    </tr>\n",
       "  </thead>\n",
       "  <tbody>\n",
       "    <tr>\n",
       "      <th>0</th>\n",
       "      <td>2017-01-31</td>\n",
       "      <td>0</td>\n",
       "      <td>NaN</td>\n",
       "      <td>NaN</td>\n",
       "    </tr>\n",
       "    <tr>\n",
       "      <th>1</th>\n",
       "      <td>2017-02-28</td>\n",
       "      <td>10</td>\n",
       "      <td>10.0</td>\n",
       "      <td>NaN</td>\n",
       "    </tr>\n",
       "    <tr>\n",
       "      <th>2</th>\n",
       "      <td>2017-03-31</td>\n",
       "      <td>21</td>\n",
       "      <td>11.0</td>\n",
       "      <td>1.0</td>\n",
       "    </tr>\n",
       "    <tr>\n",
       "      <th>3</th>\n",
       "      <td>2017-04-30</td>\n",
       "      <td>34</td>\n",
       "      <td>13.0</td>\n",
       "      <td>2.0</td>\n",
       "    </tr>\n",
       "    <tr>\n",
       "      <th>4</th>\n",
       "      <td>2017-05-31</td>\n",
       "      <td>49</td>\n",
       "      <td>15.0</td>\n",
       "      <td>2.0</td>\n",
       "    </tr>\n",
       "  </tbody>\n",
       "</table>\n",
       "</div>"
      ],
      "text/plain": [
       "         mes  assinantes  diferenca  oscilacao\n",
       "0 2017-01-31           0        NaN        NaN\n",
       "1 2017-02-28          10       10.0        NaN\n",
       "2 2017-03-31          21       11.0        1.0\n",
       "3 2017-04-30          34       13.0        2.0\n",
       "4 2017-05-31          49       15.0        2.0"
      ]
     },
     "execution_count": 15,
     "metadata": {},
     "output_type": "execute_result"
    }
   ],
   "source": [
    "#Oscilação entre a diferença de assinantes\n",
    "df_jornal['oscilacao'] = df_jornal['diferenca'].diff()\n",
    "df_jornal.head()"
   ]
  },
  {
   "cell_type": "markdown",
   "id": "bdc1a1c5",
   "metadata": {},
   "source": [
    "## Plotando gráficos"
   ]
  },
  {
   "cell_type": "code",
   "execution_count": 31,
   "id": "2f11328d",
   "metadata": {},
   "outputs": [],
   "source": [
    "def plotar_grafico(x, y, dataset, titulo, xlabel, ylabel):\n",
    "    #Definindo o tipo do gráfico\n",
    "    sns.set_palette(\"Accent\")\n",
    "    sns.set_style(\"dark\")\n",
    "    \n",
    "    #Plotando\n",
    "    grafico = sns.lineplot(x = x, y = y, data = dataset)\n",
    "    \n",
    "    #Padronizando\n",
    "    grafico.set_title(titulo)\n",
    "    grafico.set_xlabel(xlabel)\n",
    "    grafico.set_ylabel(ylabel)\n",
    "    grafico.figure.set_size_inches(12, 6)\n",
    "               "
   ]
  },
  {
   "cell_type": "code",
   "execution_count": 33,
   "id": "6ff7299d",
   "metadata": {},
   "outputs": [
    {
     "data": {
      "image/png": "[encoded data removed]",
      "text/plain": [
       "<Figure size 864x432 with 1 Axes>"
      ]
     },
     "metadata": {},
     "output_type": "display_data"
    }
   ],
   "source": [
    "plotar_grafico('mes', 'assinantes', df_jornal, \"Assinantes x Mês\", \"Mês\", \"Assinantes\")"
   ]
  },
  {
   "cell_type": "code",
   "execution_count": 34,
   "id": "5c77eebc",
   "metadata": {},
   "outputs": [
    {
     "data": {
      "image/png": "[encoded data removed]",
      "text/plain": [
       "<Figure size 864x432 with 1 Axes>"
      ]
     },
     "metadata": {},
     "output_type": "display_data"
    }
   ],
   "source": [
    "plotar_grafico('mes', 'diferenca', df_jornal, \"Qnt de assinantes por mês\", \"Mês\", \"Assinantes\")"
   ]
  },
  {
   "cell_type": "code",
   "execution_count": 36,
   "id": "98759f1f",
   "metadata": {},
   "outputs": [
    {
     "data": {
      "image/png": "[encoded data removed]",
      "text/plain": [
       "<Figure size 864x432 with 1 Axes>"
      ]
     },
     "metadata": {},
     "output_type": "display_data"
    }
   ],
   "source": [
    "plotar_grafico('mes', 'oscilacao', df_jornal, \"Oscilação de assinantes\", \"Mês\", \"Assinantes\")"
   ]
  },
  {
   "cell_type": "markdown",
   "id": "3bcb8315",
   "metadata": {},
   "source": [
    "## Plotando gráficos aninhados"
   ]
  },
  {
   "cell_type": "code",
   "execution_count": 56,
   "id": "390accd8",
   "metadata": {},
   "outputs": [],
   "source": [
    "def plotar_grafico_aninhado(x, y1, y2, y3, dataset, title):\n",
    "    \n",
    "    #Definir o tamanho dos gráficos\n",
    "    plt.figure(figsize=(15, 8))\n",
    "    \n",
    "    #Definindo a disposição dos gráficos\n",
    "    plt.subplot(3, 1, 1)\n",
    "    sns.lineplot(x = x, y = y1, data = dataset)\n",
    "    \n",
    "    plt.subplot(3, 1, 2)\n",
    "    sns.lineplot(x = x, y = y2, data = dataset)\n",
    "    \n",
    "    plt.subplot(3, 1, 3)\n",
    "    sns.lineplot(x = x, y = y3, data = dataset)"
   ]
  },
  {
   "cell_type": "code",
   "execution_count": 57,
   "id": "c945fede",
   "metadata": {},
   "outputs": [
    {
     "data": {
      "image/png": "[encoded data removed]",
      "text/plain": [
       "<Figure size 1080x576 with 3 Axes>"
      ]
     },
     "metadata": {},
     "output_type": "display_data"
    }
   ],
   "source": [
    "plotar_grafico_aninhado('mes', 'assinantes', 'diferenca', 'oscilacao', df_jornal, \"Teste\")"
   ]
  },
  {
   "cell_type": "markdown",
   "id": "767d059c",
   "metadata": {},
   "source": [
    "# Analisando a venda de chocolates"
   ]
  },
  {
   "cell_type": "code",
   "execution_count": 78,
   "id": "daec88dd",
   "metadata": {},
   "outputs": [
    {
     "data": {
      "text/html": [
       "<div>\n",
       "<style scoped>\n",
       "    .dataframe tbody tr th:only-of-type {\n",
       "        vertical-align: middle;\n",
       "    }\n",
       "\n",
       "    .dataframe tbody tr th {\n",
       "        vertical-align: top;\n",
       "    }\n",
       "\n",
       "    .dataframe thead th {\n",
       "        text-align: right;\n",
       "    }\n",
       "</style>\n",
       "<table border=\"1\" class=\"dataframe\">\n",
       "  <thead>\n",
       "    <tr style=\"text-align: right;\">\n",
       "      <th></th>\n",
       "      <th>dia</th>\n",
       "      <th>vendas</th>\n",
       "    </tr>\n",
       "  </thead>\n",
       "  <tbody>\n",
       "    <tr>\n",
       "      <th>0</th>\n",
       "      <td>2018-10-01</td>\n",
       "      <td>50</td>\n",
       "    </tr>\n",
       "    <tr>\n",
       "      <th>1</th>\n",
       "      <td>2018-10-02</td>\n",
       "      <td>48</td>\n",
       "    </tr>\n",
       "    <tr>\n",
       "      <th>2</th>\n",
       "      <td>2018-10-03</td>\n",
       "      <td>56</td>\n",
       "    </tr>\n",
       "    <tr>\n",
       "      <th>3</th>\n",
       "      <td>2018-10-04</td>\n",
       "      <td>50</td>\n",
       "    </tr>\n",
       "    <tr>\n",
       "      <th>4</th>\n",
       "      <td>2018-10-05</td>\n",
       "      <td>51</td>\n",
       "    </tr>\n",
       "  </tbody>\n",
       "</table>\n",
       "</div>"
      ],
      "text/plain": [
       "          dia  vendas\n",
       "0  2018-10-01      50\n",
       "1  2018-10-02      48\n",
       "2  2018-10-03      56\n",
       "3  2018-10-04      50\n",
       "4  2018-10-05      51"
      ]
     },
     "execution_count": 78,
     "metadata": {},
     "output_type": "execute_result"
    }
   ],
   "source": [
    "df_vendas = pd.read_csv(\"base_dados_time_series/vendas_por_dia.csv\")\n",
    "df_vendas.head()"
   ]
  },
  {
   "cell_type": "code",
   "execution_count": 79,
   "id": "62c6eb52",
   "metadata": {},
   "outputs": [],
   "source": [
    "df_vendas['dia'] = pd.to_datetime(df_vendas['dia'])"
   ]
  },
  {
   "cell_type": "markdown",
   "id": "236a3fa8",
   "metadata": {},
   "source": [
    "## Adicionando o dia da semana"
   ]
  },
  {
   "cell_type": "code",
   "execution_count": 80,
   "id": "59b0e4a0",
   "metadata": {},
   "outputs": [
    {
     "data": {
      "text/html": [
       "<div>\n",
       "<style scoped>\n",
       "    .dataframe tbody tr th:only-of-type {\n",
       "        vertical-align: middle;\n",
       "    }\n",
       "\n",
       "    .dataframe tbody tr th {\n",
       "        vertical-align: top;\n",
       "    }\n",
       "\n",
       "    .dataframe thead th {\n",
       "        text-align: right;\n",
       "    }\n",
       "</style>\n",
       "<table border=\"1\" class=\"dataframe\">\n",
       "  <thead>\n",
       "    <tr style=\"text-align: right;\">\n",
       "      <th></th>\n",
       "      <th>dia</th>\n",
       "      <th>vendas</th>\n",
       "      <th>dia_semana</th>\n",
       "    </tr>\n",
       "  </thead>\n",
       "  <tbody>\n",
       "    <tr>\n",
       "      <th>0</th>\n",
       "      <td>2018-10-01</td>\n",
       "      <td>50</td>\n",
       "      <td>Monday</td>\n",
       "    </tr>\n",
       "    <tr>\n",
       "      <th>1</th>\n",
       "      <td>2018-10-02</td>\n",
       "      <td>48</td>\n",
       "      <td>Tuesday</td>\n",
       "    </tr>\n",
       "    <tr>\n",
       "      <th>2</th>\n",
       "      <td>2018-10-03</td>\n",
       "      <td>56</td>\n",
       "      <td>Wednesday</td>\n",
       "    </tr>\n",
       "    <tr>\n",
       "      <th>3</th>\n",
       "      <td>2018-10-04</td>\n",
       "      <td>50</td>\n",
       "      <td>Thursday</td>\n",
       "    </tr>\n",
       "    <tr>\n",
       "      <th>4</th>\n",
       "      <td>2018-10-05</td>\n",
       "      <td>51</td>\n",
       "      <td>Friday</td>\n",
       "    </tr>\n",
       "    <tr>\n",
       "      <th>...</th>\n",
       "      <td>...</td>\n",
       "      <td>...</td>\n",
       "      <td>...</td>\n",
       "    </tr>\n",
       "    <tr>\n",
       "      <th>56</th>\n",
       "      <td>2018-11-26</td>\n",
       "      <td>54</td>\n",
       "      <td>Monday</td>\n",
       "    </tr>\n",
       "    <tr>\n",
       "      <th>57</th>\n",
       "      <td>2018-11-27</td>\n",
       "      <td>60</td>\n",
       "      <td>Tuesday</td>\n",
       "    </tr>\n",
       "    <tr>\n",
       "      <th>58</th>\n",
       "      <td>2018-11-28</td>\n",
       "      <td>49</td>\n",
       "      <td>Wednesday</td>\n",
       "    </tr>\n",
       "    <tr>\n",
       "      <th>59</th>\n",
       "      <td>2018-11-29</td>\n",
       "      <td>50</td>\n",
       "      <td>Thursday</td>\n",
       "    </tr>\n",
       "    <tr>\n",
       "      <th>60</th>\n",
       "      <td>2018-11-30</td>\n",
       "      <td>52</td>\n",
       "      <td>Friday</td>\n",
       "    </tr>\n",
       "  </tbody>\n",
       "</table>\n",
       "<p>61 rows × 3 columns</p>\n",
       "</div>"
      ],
      "text/plain": [
       "          dia  vendas dia_semana\n",
       "0  2018-10-01      50     Monday\n",
       "1  2018-10-02      48    Tuesday\n",
       "2  2018-10-03      56  Wednesday\n",
       "3  2018-10-04      50   Thursday\n",
       "4  2018-10-05      51     Friday\n",
       "..        ...     ...        ...\n",
       "56 2018-11-26      54     Monday\n",
       "57 2018-11-27      60    Tuesday\n",
       "58 2018-11-28      49  Wednesday\n",
       "59 2018-11-29      50   Thursday\n",
       "60 2018-11-30      52     Friday\n",
       "\n",
       "[61 rows x 3 columns]"
      ]
     },
     "execution_count": 80,
     "metadata": {},
     "output_type": "execute_result"
    }
   ],
   "source": [
    "df_vendas['dia_semana'] = df_vendas['dia'].dt.day_name()\n",
    "df_vendas"
   ]
  },
  {
   "cell_type": "code",
   "execution_count": 81,
   "id": "39fb5cd8",
   "metadata": {},
   "outputs": [
    {
     "data": {
      "text/plain": [
       "array(['Monday', 'Tuesday', 'Wednesday', 'Thursday', 'Friday', 'Saturday',\n",
       "       'Sunday'], dtype=object)"
      ]
     },
     "execution_count": 81,
     "metadata": {},
     "output_type": "execute_result"
    }
   ],
   "source": [
    "df_vendas['dia_semana'].unique()"
   ]
  },
  {
   "cell_type": "markdown",
   "id": "037fb017",
   "metadata": {},
   "source": [
    "### Traduzindo os dias da semana"
   ]
  },
  {
   "cell_type": "code",
   "execution_count": 82,
   "id": "a9161aa9",
   "metadata": {},
   "outputs": [],
   "source": [
    "dia_semana_traduzido = {'Monday':'Segunda', 'Tuesday':'Terça', 'Wednesday':'Quarta', 'Thursday':'Quinta', 'Friday':'Sexta', \n",
    "                        'Saturday':'Sábado', 'Sunday':'Domingo'}"
   ]
  },
  {
   "cell_type": "code",
   "execution_count": 83,
   "id": "6a83b062",
   "metadata": {},
   "outputs": [
    {
     "data": {
      "text/html": [
       "<div>\n",
       "<style scoped>\n",
       "    .dataframe tbody tr th:only-of-type {\n",
       "        vertical-align: middle;\n",
       "    }\n",
       "\n",
       "    .dataframe tbody tr th {\n",
       "        vertical-align: top;\n",
       "    }\n",
       "\n",
       "    .dataframe thead th {\n",
       "        text-align: right;\n",
       "    }\n",
       "</style>\n",
       "<table border=\"1\" class=\"dataframe\">\n",
       "  <thead>\n",
       "    <tr style=\"text-align: right;\">\n",
       "      <th></th>\n",
       "      <th>dia</th>\n",
       "      <th>vendas</th>\n",
       "      <th>dia_semana</th>\n",
       "    </tr>\n",
       "  </thead>\n",
       "  <tbody>\n",
       "    <tr>\n",
       "      <th>0</th>\n",
       "      <td>2018-10-01</td>\n",
       "      <td>50</td>\n",
       "      <td>Segunda</td>\n",
       "    </tr>\n",
       "    <tr>\n",
       "      <th>1</th>\n",
       "      <td>2018-10-02</td>\n",
       "      <td>48</td>\n",
       "      <td>Terça</td>\n",
       "    </tr>\n",
       "    <tr>\n",
       "      <th>2</th>\n",
       "      <td>2018-10-03</td>\n",
       "      <td>56</td>\n",
       "      <td>Quarta</td>\n",
       "    </tr>\n",
       "    <tr>\n",
       "      <th>3</th>\n",
       "      <td>2018-10-04</td>\n",
       "      <td>50</td>\n",
       "      <td>Quinta</td>\n",
       "    </tr>\n",
       "    <tr>\n",
       "      <th>4</th>\n",
       "      <td>2018-10-05</td>\n",
       "      <td>51</td>\n",
       "      <td>Sexta</td>\n",
       "    </tr>\n",
       "    <tr>\n",
       "      <th>...</th>\n",
       "      <td>...</td>\n",
       "      <td>...</td>\n",
       "      <td>...</td>\n",
       "    </tr>\n",
       "    <tr>\n",
       "      <th>56</th>\n",
       "      <td>2018-11-26</td>\n",
       "      <td>54</td>\n",
       "      <td>Segunda</td>\n",
       "    </tr>\n",
       "    <tr>\n",
       "      <th>57</th>\n",
       "      <td>2018-11-27</td>\n",
       "      <td>60</td>\n",
       "      <td>Terça</td>\n",
       "    </tr>\n",
       "    <tr>\n",
       "      <th>58</th>\n",
       "      <td>2018-11-28</td>\n",
       "      <td>49</td>\n",
       "      <td>Quarta</td>\n",
       "    </tr>\n",
       "    <tr>\n",
       "      <th>59</th>\n",
       "      <td>2018-11-29</td>\n",
       "      <td>50</td>\n",
       "      <td>Quinta</td>\n",
       "    </tr>\n",
       "    <tr>\n",
       "      <th>60</th>\n",
       "      <td>2018-11-30</td>\n",
       "      <td>52</td>\n",
       "      <td>Sexta</td>\n",
       "    </tr>\n",
       "  </tbody>\n",
       "</table>\n",
       "<p>61 rows × 3 columns</p>\n",
       "</div>"
      ],
      "text/plain": [
       "          dia  vendas dia_semana\n",
       "0  2018-10-01      50    Segunda\n",
       "1  2018-10-02      48      Terça\n",
       "2  2018-10-03      56     Quarta\n",
       "3  2018-10-04      50     Quinta\n",
       "4  2018-10-05      51      Sexta\n",
       "..        ...     ...        ...\n",
       "56 2018-11-26      54    Segunda\n",
       "57 2018-11-27      60      Terça\n",
       "58 2018-11-28      49     Quarta\n",
       "59 2018-11-29      50     Quinta\n",
       "60 2018-11-30      52      Sexta\n",
       "\n",
       "[61 rows x 3 columns]"
      ]
     },
     "execution_count": 83,
     "metadata": {},
     "output_type": "execute_result"
    }
   ],
   "source": [
    "df_vendas['dia_semana'] = df_vendas['dia_semana'].map(dia_semana_traduzido)\n",
    "df_vendas"
   ]
  },
  {
   "cell_type": "markdown",
   "id": "f6f4a4e1",
   "metadata": {},
   "source": [
    "### Agrupando a média das vendas por dia da semana"
   ]
  },
  {
   "cell_type": "code",
   "execution_count": 86,
   "id": "0bb2900d",
   "metadata": {},
   "outputs": [
    {
     "data": {
      "text/plain": [
       "dia_semana\n",
       "Domingo    18.88\n",
       "Quarta     53.11\n",
       "Quinta     51.33\n",
       "Segunda    52.33\n",
       "Sexta      44.56\n",
       "Sábado     15.88\n",
       "Terça      51.67\n",
       "Name: vendas, dtype: float64"
      ]
     },
     "execution_count": 86,
     "metadata": {},
     "output_type": "execute_result"
    }
   ],
   "source": [
    "df_vendas.groupby('dia_semana')['vendas'].mean().round(2)"
   ]
  },
  {
   "cell_type": "code",
   "execution_count": null,
   "id": "c0f9aa63",
   "metadata": {},
   "outputs": [],
   "source": []
  }
 ],
 "metadata": {
  "kernelspec": {
   "display_name": "Python 3 (ipykernel)",
   "language": "python",
   "name": "python3"
  },
  "language_info": {
   "codemirror_mode": {
    "name": "ipython",
    "version": 3
   },
   "file_extension": ".py",
   "mimetype": "text/x-python",
   "name": "python",
   "nbconvert_exporter": "python",
   "pygments_lexer": "ipython3",
   "version": "3.9.12"
  }
 },
 "nbformat": 4,
 "nbformat_minor": 5
}
